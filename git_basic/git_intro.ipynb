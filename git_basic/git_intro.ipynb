{
"cells": [
 {
 "cell_type": "markdown",
 "metadata": {},
 "source": [
  "# The Git Tutorial\n",
  "\n",
  "Git is a source tracking system.\n",
  "\n"
 ]
 }
]
}

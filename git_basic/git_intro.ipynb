{
"cells": [
 {
 "cell_type": "markdown",
 "metadata": {},
 "source": [
  "# The Git Tutorial\n",
  "\n",
  "Git is a source tracking system.\n",
  "\n"
 ]
},
{
 "cell_type": "code",
 "execution_count": 2,
 "metadata": {},
 "outputs": [
  {
   "name": "stdout",
   "output_type": "stream",
   "text": [
    "39.66666666666664\n"
   ]
  }
 ],
 "source": [
  "# Write an expression that calculates the average/mean of 23, 32, and 64\n",
  "# Place the expression in this print statement\n",
  "\n",
  "# variables assignment operator \n",
  "sum_of_terms = (23 + 32 + 64)\n",
  "num_of_terms = 3\n",
  "\n",
  "mean = sum_of_terms/num_of_terms\n",
  "print(mean)"
 ]
}

{
 "cells": [
  {
   "cell_type": "code",
   "execution_count": null,
   "metadata": {},
   "outputs": [],
   "source": [
    "import matplotlib.pylab as plt\n",
    "import numpy as np\n",
    "x = np.arange(-6, 6, 0.1)\n",
    "\n",
    "# sigmoid 函數\n",
    "sg = 1 / (1 + np.exp(-x))\n",
    "\n",
    "# sigmoid 函數的微分\n",
    "sig = sg*(1-sg)\n",
    "\n",
    "# 常態分佈 mu=0, sigma=1.6 的機率密度函數\n",
    "std = np.exp(-x**2 / (2*1.6*1.6)) / (1.6 * np.sqrt(2 * np.pi))\n",
    "\n",
    "plt.plot(x, sig)\n",
    "plt.plot()"
   ]
  }
 ],
 "metadata": {
  "kernelspec": {
   "display_name": "Python 3",
   "language": "python",
   "name": "python3"
  },
  "language_info": {
   "codemirror_mode": {
    "name": "ipython",
    "version": 3
   },
   "file_extension": ".py",
   "mimetype": "text/x-python",
   "name": "python",
   "nbconvert_exporter": "python",
   "pygments_lexer": "ipython3",
   "version": "3.8.5"
  }
 },
 "nbformat": 4,
 "nbformat_minor": 4
}
